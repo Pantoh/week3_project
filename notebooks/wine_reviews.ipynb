{
 "cells": [
  {
   "cell_type": "code",
   "execution_count": null,
   "id": "312c5238-9d0f-421e-8c07-70dd4c01fa06",
   "metadata": {},
   "outputs": [],
   "source": [
    "\"\"\"WineRetail Inc. is facing challenges in optimizing their inventory and pricing strategy to maximize sales and customer satisfaction.\n",
    "The retailer needs to understand the relationship between wine prices, ratings, regional influences, and grape varieties\n",
    "to make informed decisions on which wines to stock.\"\"\""
   ]
  },
  {
   "cell_type": "code",
   "execution_count": null,
   "id": "7c4841a1-68c0-423c-8431-0e4312da392d",
   "metadata": {},
   "outputs": [],
   "source": [
    "\"\"\"HYPOTHESES: \n",
    "- Price and Rating Disparity\n",
    "- Regional Influence on Wine Ratings\n",
    "- Grape Variety Impact on Wine Reviews\"\"\""
   ]
  },
  {
   "cell_type": "markdown",
   "id": "a78b892a-40ef-47bc-b5d2-2e86db37c8f8",
   "metadata": {},
   "source": [
    "# Load libraries"
   ]
  },
  {
   "cell_type": "code",
   "execution_count": null,
   "id": "f07380b9-23fe-405a-beca-f95e12f0bfc0",
   "metadata": {},
   "outputs": [],
   "source": [
    "import pandas as pd # Library to work with dataframes\n",
    "import numpy as np # Library to work on mathematical operations on arrays\n",
    "import matplotlib.pyplot as plt # Library to plot graphics\n",
    "import seaborn as sns # to build modern graphics\n",
    "import zipfile # for file decompression\n",
    "import os # to  interact with the underlying operating system"
   ]
  },
  {
   "cell_type": "markdown",
   "id": "ce64f9ec-864a-43a9-83f9-851c2667367a",
   "metadata": {},
   "source": [
    "# Load datasets"
   ]
  },
  {
   "cell_type": "code",
   "execution_count": null,
   "id": "0ef1ba1b-5db6-4ecb-aa09-b0c62829ee7c",
   "metadata": {},
   "outputs": [],
   "source": [
    "# Load the CSV file into a DataFrame\n",
    "df = pd.read_csv(\"../data/raw/winemag-data_first150k.csv\")\n",
    "df2 = pd.read_csv(\"../data/raw/winemag-data-130k-v2.csv\")\n",
    "# Print the columns of the DataFrame to verify successful loading\n",
    "display(df.head())\n",
    "print()\n",
    "display(df2.head())\n",
    "\n"
   ]
  },
  {
   "cell_type": "markdown",
   "id": "a2eb675a-c4f9-4972-8d3b-87fa78d1fe0c",
   "metadata": {},
   "source": [
    "# Concat datasets"
   ]
  },
  {
   "cell_type": "code",
   "execution_count": 24,
   "id": "db981d25-9773-4e74-83e3-f03c42865cdb",
   "metadata": {},
   "outputs": [
    {
     "data": {
      "text/plain": [
       "Index(['Unnamed: 0', 'country', 'description', 'designation', 'points',\n",
       "       'price', 'province', 'region_1', 'region_2', 'variety', 'winery'],\n",
       "      dtype='object')"
      ]
     },
     "execution_count": 24,
     "metadata": {},
     "output_type": "execute_result"
    }
   ],
   "source": [
    "df.columns"
   ]
  },
  {
   "cell_type": "code",
   "execution_count": 25,
   "id": "734a0d3f-a6ba-4273-aedc-6fa96cb62e46",
   "metadata": {},
   "outputs": [
    {
     "data": {
      "text/plain": [
       "Index(['Unnamed: 0', 'country', 'description', 'designation', 'points',\n",
       "       'price', 'province', 'region_1', 'region_2', 'taster_name',\n",
       "       'taster_twitter_handle', 'title', 'variety', 'winery'],\n",
       "      dtype='object')"
      ]
     },
     "execution_count": 25,
     "metadata": {},
     "output_type": "execute_result"
    }
   ],
   "source": [
    "df2.columns"
   ]
  },
  {
   "cell_type": "code",
   "execution_count": 26,
   "id": "f4b5a93e-c964-4541-9908-d8b2b80ca9ad",
   "metadata": {},
   "outputs": [
    {
     "data": {
      "text/html": [
       "<div>\n",
       "<style scoped>\n",
       "    .dataframe tbody tr th:only-of-type {\n",
       "        vertical-align: middle;\n",
       "    }\n",
       "\n",
       "    .dataframe tbody tr th {\n",
       "        vertical-align: top;\n",
       "    }\n",
       "\n",
       "    .dataframe thead th {\n",
       "        text-align: right;\n",
       "    }\n",
       "</style>\n",
       "<table border=\"1\" class=\"dataframe\">\n",
       "  <thead>\n",
       "    <tr style=\"text-align: right;\">\n",
       "      <th></th>\n",
       "      <th>index</th>\n",
       "      <th>Unnamed: 0</th>\n",
       "      <th>country</th>\n",
       "      <th>description</th>\n",
       "      <th>designation</th>\n",
       "      <th>points</th>\n",
       "      <th>price</th>\n",
       "      <th>province</th>\n",
       "      <th>region_1</th>\n",
       "      <th>region_2</th>\n",
       "      <th>variety</th>\n",
       "      <th>winery</th>\n",
       "      <th>taster_name</th>\n",
       "      <th>taster_twitter_handle</th>\n",
       "      <th>title</th>\n",
       "    </tr>\n",
       "  </thead>\n",
       "  <tbody>\n",
       "    <tr>\n",
       "      <th>0</th>\n",
       "      <td>0</td>\n",
       "      <td>0</td>\n",
       "      <td>US</td>\n",
       "      <td>This tremendous 100% varietal wine hails from ...</td>\n",
       "      <td>Martha's Vineyard</td>\n",
       "      <td>96</td>\n",
       "      <td>235.0</td>\n",
       "      <td>California</td>\n",
       "      <td>Napa Valley</td>\n",
       "      <td>Napa</td>\n",
       "      <td>Cabernet Sauvignon</td>\n",
       "      <td>Heitz</td>\n",
       "      <td>NaN</td>\n",
       "      <td>NaN</td>\n",
       "      <td>NaN</td>\n",
       "    </tr>\n",
       "    <tr>\n",
       "      <th>1</th>\n",
       "      <td>1</td>\n",
       "      <td>1</td>\n",
       "      <td>Spain</td>\n",
       "      <td>Ripe aromas of fig, blackberry and cassis are ...</td>\n",
       "      <td>Carodorum Selección Especial Reserva</td>\n",
       "      <td>96</td>\n",
       "      <td>110.0</td>\n",
       "      <td>Northern Spain</td>\n",
       "      <td>Toro</td>\n",
       "      <td>NaN</td>\n",
       "      <td>Tinta de Toro</td>\n",
       "      <td>Bodega Carmen Rodríguez</td>\n",
       "      <td>NaN</td>\n",
       "      <td>NaN</td>\n",
       "      <td>NaN</td>\n",
       "    </tr>\n",
       "    <tr>\n",
       "      <th>2</th>\n",
       "      <td>2</td>\n",
       "      <td>2</td>\n",
       "      <td>US</td>\n",
       "      <td>Mac Watson honors the memory of a wine once ma...</td>\n",
       "      <td>Special Selected Late Harvest</td>\n",
       "      <td>96</td>\n",
       "      <td>90.0</td>\n",
       "      <td>California</td>\n",
       "      <td>Knights Valley</td>\n",
       "      <td>Sonoma</td>\n",
       "      <td>Sauvignon Blanc</td>\n",
       "      <td>Macauley</td>\n",
       "      <td>NaN</td>\n",
       "      <td>NaN</td>\n",
       "      <td>NaN</td>\n",
       "    </tr>\n",
       "    <tr>\n",
       "      <th>3</th>\n",
       "      <td>3</td>\n",
       "      <td>3</td>\n",
       "      <td>US</td>\n",
       "      <td>This spent 20 months in 30% new French oak, an...</td>\n",
       "      <td>Reserve</td>\n",
       "      <td>96</td>\n",
       "      <td>65.0</td>\n",
       "      <td>Oregon</td>\n",
       "      <td>Willamette Valley</td>\n",
       "      <td>Willamette Valley</td>\n",
       "      <td>Pinot Noir</td>\n",
       "      <td>Ponzi</td>\n",
       "      <td>NaN</td>\n",
       "      <td>NaN</td>\n",
       "      <td>NaN</td>\n",
       "    </tr>\n",
       "    <tr>\n",
       "      <th>4</th>\n",
       "      <td>4</td>\n",
       "      <td>4</td>\n",
       "      <td>France</td>\n",
       "      <td>This is the top wine from La Bégude, named aft...</td>\n",
       "      <td>La Brûlade</td>\n",
       "      <td>95</td>\n",
       "      <td>66.0</td>\n",
       "      <td>Provence</td>\n",
       "      <td>Bandol</td>\n",
       "      <td>NaN</td>\n",
       "      <td>Provence red blend</td>\n",
       "      <td>Domaine de la Bégude</td>\n",
       "      <td>NaN</td>\n",
       "      <td>NaN</td>\n",
       "      <td>NaN</td>\n",
       "    </tr>\n",
       "    <tr>\n",
       "      <th>...</th>\n",
       "      <td>...</td>\n",
       "      <td>...</td>\n",
       "      <td>...</td>\n",
       "      <td>...</td>\n",
       "      <td>...</td>\n",
       "      <td>...</td>\n",
       "      <td>...</td>\n",
       "      <td>...</td>\n",
       "      <td>...</td>\n",
       "      <td>...</td>\n",
       "      <td>...</td>\n",
       "      <td>...</td>\n",
       "      <td>...</td>\n",
       "      <td>...</td>\n",
       "      <td>...</td>\n",
       "    </tr>\n",
       "    <tr>\n",
       "      <th>280896</th>\n",
       "      <td>129966</td>\n",
       "      <td>129966</td>\n",
       "      <td>Germany</td>\n",
       "      <td>Notes of honeysuckle and cantaloupe sweeten th...</td>\n",
       "      <td>Brauneberger Juffer-Sonnenuhr Spätlese</td>\n",
       "      <td>90</td>\n",
       "      <td>28.0</td>\n",
       "      <td>Mosel</td>\n",
       "      <td>NaN</td>\n",
       "      <td>NaN</td>\n",
       "      <td>Riesling</td>\n",
       "      <td>Dr. H. Thanisch (Erben Müller-Burggraef)</td>\n",
       "      <td>Anna Lee C. Iijima</td>\n",
       "      <td>NaN</td>\n",
       "      <td>Dr. H. Thanisch (Erben Müller-Burggraef) 2013 ...</td>\n",
       "    </tr>\n",
       "    <tr>\n",
       "      <th>280897</th>\n",
       "      <td>129967</td>\n",
       "      <td>129967</td>\n",
       "      <td>US</td>\n",
       "      <td>Citation is given as much as a decade of bottl...</td>\n",
       "      <td>NaN</td>\n",
       "      <td>90</td>\n",
       "      <td>75.0</td>\n",
       "      <td>Oregon</td>\n",
       "      <td>Oregon</td>\n",
       "      <td>Oregon Other</td>\n",
       "      <td>Pinot Noir</td>\n",
       "      <td>Citation</td>\n",
       "      <td>Paul Gregutt</td>\n",
       "      <td>@paulgwine</td>\n",
       "      <td>Citation 2004 Pinot Noir (Oregon)</td>\n",
       "    </tr>\n",
       "    <tr>\n",
       "      <th>280898</th>\n",
       "      <td>129968</td>\n",
       "      <td>129968</td>\n",
       "      <td>France</td>\n",
       "      <td>Well-drained gravel soil gives this wine its c...</td>\n",
       "      <td>Kritt</td>\n",
       "      <td>90</td>\n",
       "      <td>30.0</td>\n",
       "      <td>Alsace</td>\n",
       "      <td>Alsace</td>\n",
       "      <td>NaN</td>\n",
       "      <td>Gewürztraminer</td>\n",
       "      <td>Domaine Gresser</td>\n",
       "      <td>Roger Voss</td>\n",
       "      <td>@vossroger</td>\n",
       "      <td>Domaine Gresser 2013 Kritt Gewurztraminer (Als...</td>\n",
       "    </tr>\n",
       "    <tr>\n",
       "      <th>280899</th>\n",
       "      <td>129969</td>\n",
       "      <td>129969</td>\n",
       "      <td>France</td>\n",
       "      <td>A dry style of Pinot Gris, this is crisp with ...</td>\n",
       "      <td>NaN</td>\n",
       "      <td>90</td>\n",
       "      <td>32.0</td>\n",
       "      <td>Alsace</td>\n",
       "      <td>Alsace</td>\n",
       "      <td>NaN</td>\n",
       "      <td>Pinot Gris</td>\n",
       "      <td>Domaine Marcel Deiss</td>\n",
       "      <td>Roger Voss</td>\n",
       "      <td>@vossroger</td>\n",
       "      <td>Domaine Marcel Deiss 2012 Pinot Gris (Alsace)</td>\n",
       "    </tr>\n",
       "    <tr>\n",
       "      <th>280900</th>\n",
       "      <td>129970</td>\n",
       "      <td>129970</td>\n",
       "      <td>France</td>\n",
       "      <td>Big, rich and off-dry, this is powered by inte...</td>\n",
       "      <td>Lieu-dit Harth Cuvée Caroline</td>\n",
       "      <td>90</td>\n",
       "      <td>21.0</td>\n",
       "      <td>Alsace</td>\n",
       "      <td>Alsace</td>\n",
       "      <td>NaN</td>\n",
       "      <td>Gewürztraminer</td>\n",
       "      <td>Domaine Schoffit</td>\n",
       "      <td>Roger Voss</td>\n",
       "      <td>@vossroger</td>\n",
       "      <td>Domaine Schoffit 2012 Lieu-dit Harth Cuvée Car...</td>\n",
       "    </tr>\n",
       "  </tbody>\n",
       "</table>\n",
       "<p>280901 rows × 15 columns</p>\n",
       "</div>"
      ],
      "text/plain": [
       "         index  Unnamed: 0  country  \\\n",
       "0            0           0       US   \n",
       "1            1           1    Spain   \n",
       "2            2           2       US   \n",
       "3            3           3       US   \n",
       "4            4           4   France   \n",
       "...        ...         ...      ...   \n",
       "280896  129966      129966  Germany   \n",
       "280897  129967      129967       US   \n",
       "280898  129968      129968   France   \n",
       "280899  129969      129969   France   \n",
       "280900  129970      129970   France   \n",
       "\n",
       "                                              description  \\\n",
       "0       This tremendous 100% varietal wine hails from ...   \n",
       "1       Ripe aromas of fig, blackberry and cassis are ...   \n",
       "2       Mac Watson honors the memory of a wine once ma...   \n",
       "3       This spent 20 months in 30% new French oak, an...   \n",
       "4       This is the top wine from La Bégude, named aft...   \n",
       "...                                                   ...   \n",
       "280896  Notes of honeysuckle and cantaloupe sweeten th...   \n",
       "280897  Citation is given as much as a decade of bottl...   \n",
       "280898  Well-drained gravel soil gives this wine its c...   \n",
       "280899  A dry style of Pinot Gris, this is crisp with ...   \n",
       "280900  Big, rich and off-dry, this is powered by inte...   \n",
       "\n",
       "                                   designation  points  price        province  \\\n",
       "0                            Martha's Vineyard      96  235.0      California   \n",
       "1         Carodorum Selección Especial Reserva      96  110.0  Northern Spain   \n",
       "2                Special Selected Late Harvest      96   90.0      California   \n",
       "3                                      Reserve      96   65.0          Oregon   \n",
       "4                                   La Brûlade      95   66.0        Provence   \n",
       "...                                        ...     ...    ...             ...   \n",
       "280896  Brauneberger Juffer-Sonnenuhr Spätlese      90   28.0           Mosel   \n",
       "280897                                     NaN      90   75.0          Oregon   \n",
       "280898                                   Kritt      90   30.0          Alsace   \n",
       "280899                                     NaN      90   32.0          Alsace   \n",
       "280900           Lieu-dit Harth Cuvée Caroline      90   21.0          Alsace   \n",
       "\n",
       "                 region_1           region_2             variety  \\\n",
       "0             Napa Valley               Napa  Cabernet Sauvignon   \n",
       "1                    Toro                NaN       Tinta de Toro   \n",
       "2          Knights Valley             Sonoma     Sauvignon Blanc   \n",
       "3       Willamette Valley  Willamette Valley          Pinot Noir   \n",
       "4                  Bandol                NaN  Provence red blend   \n",
       "...                   ...                ...                 ...   \n",
       "280896                NaN                NaN            Riesling   \n",
       "280897             Oregon       Oregon Other          Pinot Noir   \n",
       "280898             Alsace                NaN      Gewürztraminer   \n",
       "280899             Alsace                NaN          Pinot Gris   \n",
       "280900             Alsace                NaN      Gewürztraminer   \n",
       "\n",
       "                                          winery         taster_name  \\\n",
       "0                                          Heitz                 NaN   \n",
       "1                        Bodega Carmen Rodríguez                 NaN   \n",
       "2                                       Macauley                 NaN   \n",
       "3                                          Ponzi                 NaN   \n",
       "4                           Domaine de la Bégude                 NaN   \n",
       "...                                          ...                 ...   \n",
       "280896  Dr. H. Thanisch (Erben Müller-Burggraef)  Anna Lee C. Iijima   \n",
       "280897                                  Citation        Paul Gregutt   \n",
       "280898                           Domaine Gresser          Roger Voss   \n",
       "280899                      Domaine Marcel Deiss          Roger Voss   \n",
       "280900                          Domaine Schoffit          Roger Voss   \n",
       "\n",
       "       taster_twitter_handle  \\\n",
       "0                        NaN   \n",
       "1                        NaN   \n",
       "2                        NaN   \n",
       "3                        NaN   \n",
       "4                        NaN   \n",
       "...                      ...   \n",
       "280896                   NaN   \n",
       "280897           @paulgwine    \n",
       "280898            @vossroger   \n",
       "280899            @vossroger   \n",
       "280900            @vossroger   \n",
       "\n",
       "                                                    title  \n",
       "0                                                     NaN  \n",
       "1                                                     NaN  \n",
       "2                                                     NaN  \n",
       "3                                                     NaN  \n",
       "4                                                     NaN  \n",
       "...                                                   ...  \n",
       "280896  Dr. H. Thanisch (Erben Müller-Burggraef) 2013 ...  \n",
       "280897                  Citation 2004 Pinot Noir (Oregon)  \n",
       "280898  Domaine Gresser 2013 Kritt Gewurztraminer (Als...  \n",
       "280899      Domaine Marcel Deiss 2012 Pinot Gris (Alsace)  \n",
       "280900  Domaine Schoffit 2012 Lieu-dit Harth Cuvée Car...  \n",
       "\n",
       "[280901 rows x 15 columns]"
      ]
     },
     "execution_count": 26,
     "metadata": {},
     "output_type": "execute_result"
    }
   ],
   "source": [
    "combined_df = pd.concat([df, df2], join = \"outer\").reset_index()\n",
    "combined_df\n",
    "#df.merge(df2, how = \"right\")"
   ]
  },
  {
   "cell_type": "markdown",
   "id": "a9870753-e794-4320-b4f3-0e0874e99881",
   "metadata": {},
   "source": [
    "# Checking for Null Values"
   ]
  },
  {
   "cell_type": "code",
   "execution_count": 27,
   "id": "6b56747a-ec5a-4933-88cb-c446d47daa12",
   "metadata": {},
   "outputs": [
    {
     "data": {
      "text/plain": [
       "index                         0\n",
       "Unnamed: 0                    0\n",
       "country                      68\n",
       "description                   0\n",
       "designation               83200\n",
       "points                        0\n",
       "price                     22691\n",
       "province                     68\n",
       "region_1                  46307\n",
       "region_2                 169437\n",
       "variety                       1\n",
       "winery                        0\n",
       "taster_name              177174\n",
       "taster_twitter_handle    182143\n",
       "title                    150930\n",
       "dtype: int64"
      ]
     },
     "execution_count": 27,
     "metadata": {},
     "output_type": "execute_result"
    }
   ],
   "source": [
    "# with this amount of Null values in col  taster_name,taster_twitter_handle and title .dropna might be in order \n",
    "combined_df.isna().sum()"
   ]
  },
  {
   "cell_type": "markdown",
   "id": "c21813fc-e438-4814-9aba-201189fe6d32",
   "metadata": {},
   "source": [
    "# Dropping Null Values"
   ]
  },
  {
   "cell_type": "markdown",
   "id": "8439f495-1c17-4a6e-af68-692ecded41d4",
   "metadata": {},
   "source": [
    "### not necessary in this case"
   ]
  },
  {
   "cell_type": "code",
   "execution_count": 28,
   "id": "b54468a4-eb9e-4db0-a0bc-8af3e6ada11a",
   "metadata": {},
   "outputs": [],
   "source": [
    "#combined_df.dropna(subset = [\"taster_name\",\"taster_twitter_handle\",\"title\"])"
   ]
  },
  {
   "cell_type": "markdown",
   "id": "c29d106b-b986-46e7-9796-ae8d96beedad",
   "metadata": {},
   "source": [
    "# Filling null values"
   ]
  },
  {
   "cell_type": "code",
   "execution_count": 29,
   "id": "53dbe46e-87b0-4058-bcb6-db6d67ff462a",
   "metadata": {},
   "outputs": [
    {
     "data": {
      "text/html": [
       "<div>\n",
       "<style scoped>\n",
       "    .dataframe tbody tr th:only-of-type {\n",
       "        vertical-align: middle;\n",
       "    }\n",
       "\n",
       "    .dataframe tbody tr th {\n",
       "        vertical-align: top;\n",
       "    }\n",
       "\n",
       "    .dataframe thead th {\n",
       "        text-align: right;\n",
       "    }\n",
       "</style>\n",
       "<table border=\"1\" class=\"dataframe\">\n",
       "  <thead>\n",
       "    <tr style=\"text-align: right;\">\n",
       "      <th></th>\n",
       "      <th>index</th>\n",
       "      <th>Unnamed: 0</th>\n",
       "      <th>country</th>\n",
       "      <th>description</th>\n",
       "      <th>designation</th>\n",
       "      <th>points</th>\n",
       "      <th>price</th>\n",
       "      <th>province</th>\n",
       "      <th>region_1</th>\n",
       "      <th>region_2</th>\n",
       "      <th>variety</th>\n",
       "      <th>winery</th>\n",
       "      <th>taster_name</th>\n",
       "      <th>taster_twitter_handle</th>\n",
       "      <th>title</th>\n",
       "    </tr>\n",
       "  </thead>\n",
       "  <tbody>\n",
       "    <tr>\n",
       "      <th>0</th>\n",
       "      <td>0</td>\n",
       "      <td>0</td>\n",
       "      <td>US</td>\n",
       "      <td>This tremendous 100% varietal wine hails from ...</td>\n",
       "      <td>Martha's Vineyard</td>\n",
       "      <td>96</td>\n",
       "      <td>235.0</td>\n",
       "      <td>California</td>\n",
       "      <td>Napa Valley</td>\n",
       "      <td>Napa</td>\n",
       "      <td>Cabernet Sauvignon</td>\n",
       "      <td>Heitz</td>\n",
       "      <td>NaN</td>\n",
       "      <td>NaN</td>\n",
       "      <td>NaN</td>\n",
       "    </tr>\n",
       "    <tr>\n",
       "      <th>1</th>\n",
       "      <td>1</td>\n",
       "      <td>1</td>\n",
       "      <td>Spain</td>\n",
       "      <td>Ripe aromas of fig, blackberry and cassis are ...</td>\n",
       "      <td>Carodorum Selección Especial Reserva</td>\n",
       "      <td>96</td>\n",
       "      <td>110.0</td>\n",
       "      <td>Northern Spain</td>\n",
       "      <td>Toro</td>\n",
       "      <td>NaN</td>\n",
       "      <td>Tinta de Toro</td>\n",
       "      <td>Bodega Carmen Rodríguez</td>\n",
       "      <td>NaN</td>\n",
       "      <td>NaN</td>\n",
       "      <td>NaN</td>\n",
       "    </tr>\n",
       "    <tr>\n",
       "      <th>2</th>\n",
       "      <td>2</td>\n",
       "      <td>2</td>\n",
       "      <td>US</td>\n",
       "      <td>Mac Watson honors the memory of a wine once ma...</td>\n",
       "      <td>Special Selected Late Harvest</td>\n",
       "      <td>96</td>\n",
       "      <td>90.0</td>\n",
       "      <td>California</td>\n",
       "      <td>Knights Valley</td>\n",
       "      <td>Sonoma</td>\n",
       "      <td>Sauvignon Blanc</td>\n",
       "      <td>Macauley</td>\n",
       "      <td>NaN</td>\n",
       "      <td>NaN</td>\n",
       "      <td>NaN</td>\n",
       "    </tr>\n",
       "    <tr>\n",
       "      <th>3</th>\n",
       "      <td>3</td>\n",
       "      <td>3</td>\n",
       "      <td>US</td>\n",
       "      <td>This spent 20 months in 30% new French oak, an...</td>\n",
       "      <td>Reserve</td>\n",
       "      <td>96</td>\n",
       "      <td>65.0</td>\n",
       "      <td>Oregon</td>\n",
       "      <td>Willamette Valley</td>\n",
       "      <td>Willamette Valley</td>\n",
       "      <td>Pinot Noir</td>\n",
       "      <td>Ponzi</td>\n",
       "      <td>NaN</td>\n",
       "      <td>NaN</td>\n",
       "      <td>NaN</td>\n",
       "    </tr>\n",
       "    <tr>\n",
       "      <th>4</th>\n",
       "      <td>4</td>\n",
       "      <td>4</td>\n",
       "      <td>France</td>\n",
       "      <td>This is the top wine from La Bégude, named aft...</td>\n",
       "      <td>La Brûlade</td>\n",
       "      <td>95</td>\n",
       "      <td>66.0</td>\n",
       "      <td>Provence</td>\n",
       "      <td>Bandol</td>\n",
       "      <td>NaN</td>\n",
       "      <td>Provence red blend</td>\n",
       "      <td>Domaine de la Bégude</td>\n",
       "      <td>NaN</td>\n",
       "      <td>NaN</td>\n",
       "      <td>NaN</td>\n",
       "    </tr>\n",
       "  </tbody>\n",
       "</table>\n",
       "</div>"
      ],
      "text/plain": [
       "   index  Unnamed: 0 country  \\\n",
       "0      0           0      US   \n",
       "1      1           1   Spain   \n",
       "2      2           2      US   \n",
       "3      3           3      US   \n",
       "4      4           4  France   \n",
       "\n",
       "                                         description  \\\n",
       "0  This tremendous 100% varietal wine hails from ...   \n",
       "1  Ripe aromas of fig, blackberry and cassis are ...   \n",
       "2  Mac Watson honors the memory of a wine once ma...   \n",
       "3  This spent 20 months in 30% new French oak, an...   \n",
       "4  This is the top wine from La Bégude, named aft...   \n",
       "\n",
       "                            designation  points  price        province  \\\n",
       "0                     Martha's Vineyard      96  235.0      California   \n",
       "1  Carodorum Selección Especial Reserva      96  110.0  Northern Spain   \n",
       "2         Special Selected Late Harvest      96   90.0      California   \n",
       "3                               Reserve      96   65.0          Oregon   \n",
       "4                            La Brûlade      95   66.0        Provence   \n",
       "\n",
       "            region_1           region_2             variety  \\\n",
       "0        Napa Valley               Napa  Cabernet Sauvignon   \n",
       "1               Toro                NaN       Tinta de Toro   \n",
       "2     Knights Valley             Sonoma     Sauvignon Blanc   \n",
       "3  Willamette Valley  Willamette Valley          Pinot Noir   \n",
       "4             Bandol                NaN  Provence red blend   \n",
       "\n",
       "                    winery taster_name taster_twitter_handle title  \n",
       "0                    Heitz         NaN                   NaN   NaN  \n",
       "1  Bodega Carmen Rodríguez         NaN                   NaN   NaN  \n",
       "2                 Macauley         NaN                   NaN   NaN  \n",
       "3                    Ponzi         NaN                   NaN   NaN  \n",
       "4     Domaine de la Bégude         NaN                   NaN   NaN  "
      ]
     },
     "execution_count": 29,
     "metadata": {},
     "output_type": "execute_result"
    }
   ],
   "source": [
    "# all the nulls in column price changed to \"0\" and casted as float64,all the other null values changed to \"Unknown\"\n",
    "combined_df[\"price\"].fillna(0).astype(float)\n",
    "combined_df.fillna(\"Unknown\")\n",
    "combined_df.head()"
   ]
  },
  {
   "cell_type": "code",
   "execution_count": 30,
   "id": "1aee35f9-d9a9-4cf7-af1a-d6fe0ed849c6",
   "metadata": {},
   "outputs": [
    {
     "data": {
      "text/plain": [
       "index                      int64\n",
       "Unnamed: 0                 int64\n",
       "country                   object\n",
       "description               object\n",
       "designation               object\n",
       "points                     int64\n",
       "price                    float64\n",
       "province                  object\n",
       "region_1                  object\n",
       "region_2                  object\n",
       "variety                   object\n",
       "winery                    object\n",
       "taster_name               object\n",
       "taster_twitter_handle     object\n",
       "title                     object\n",
       "dtype: object"
      ]
     },
     "execution_count": 30,
     "metadata": {},
     "output_type": "execute_result"
    }
   ],
   "source": [
    "combined_df.dtypes"
   ]
  },
  {
   "cell_type": "code",
   "execution_count": 31,
   "id": "bcb02d0e-ef76-455f-a0d0-38200c1c7c29",
   "metadata": {},
   "outputs": [
    {
     "data": {
      "text/plain": [
       "0"
      ]
     },
     "execution_count": 31,
     "metadata": {},
     "output_type": "execute_result"
    }
   ],
   "source": [
    "combined_df.duplicated().sum()"
   ]
  },
  {
   "cell_type": "markdown",
   "id": "c83219b6-c2d3-4dde-b403-ca4448f1d6d4",
   "metadata": {},
   "source": [
    "# Removing Columns"
   ]
  },
  {
   "cell_type": "code",
   "execution_count": 32,
   "id": "96c56b67-5dff-48da-bf5e-a30dce8c9c2b",
   "metadata": {},
   "outputs": [
    {
     "data": {
      "text/html": [
       "<div>\n",
       "<style scoped>\n",
       "    .dataframe tbody tr th:only-of-type {\n",
       "        vertical-align: middle;\n",
       "    }\n",
       "\n",
       "    .dataframe tbody tr th {\n",
       "        vertical-align: top;\n",
       "    }\n",
       "\n",
       "    .dataframe thead th {\n",
       "        text-align: right;\n",
       "    }\n",
       "</style>\n",
       "<table border=\"1\" class=\"dataframe\">\n",
       "  <thead>\n",
       "    <tr style=\"text-align: right;\">\n",
       "      <th></th>\n",
       "      <th>index</th>\n",
       "      <th>Unnamed: 0</th>\n",
       "      <th>country</th>\n",
       "      <th>description</th>\n",
       "      <th>designation</th>\n",
       "      <th>points</th>\n",
       "      <th>price</th>\n",
       "      <th>province</th>\n",
       "      <th>region_1</th>\n",
       "      <th>region_2</th>\n",
       "      <th>variety</th>\n",
       "      <th>winery</th>\n",
       "      <th>taster_name</th>\n",
       "      <th>taster_twitter_handle</th>\n",
       "      <th>title</th>\n",
       "    </tr>\n",
       "  </thead>\n",
       "  <tbody>\n",
       "    <tr>\n",
       "      <th>0</th>\n",
       "      <td>0</td>\n",
       "      <td>0</td>\n",
       "      <td>US</td>\n",
       "      <td>This tremendous 100% varietal wine hails from ...</td>\n",
       "      <td>Martha's Vineyard</td>\n",
       "      <td>96</td>\n",
       "      <td>235.0</td>\n",
       "      <td>California</td>\n",
       "      <td>Napa Valley</td>\n",
       "      <td>Napa</td>\n",
       "      <td>Cabernet Sauvignon</td>\n",
       "      <td>Heitz</td>\n",
       "      <td>NaN</td>\n",
       "      <td>NaN</td>\n",
       "      <td>NaN</td>\n",
       "    </tr>\n",
       "    <tr>\n",
       "      <th>1</th>\n",
       "      <td>1</td>\n",
       "      <td>1</td>\n",
       "      <td>Spain</td>\n",
       "      <td>Ripe aromas of fig, blackberry and cassis are ...</td>\n",
       "      <td>Carodorum Selección Especial Reserva</td>\n",
       "      <td>96</td>\n",
       "      <td>110.0</td>\n",
       "      <td>Northern Spain</td>\n",
       "      <td>Toro</td>\n",
       "      <td>NaN</td>\n",
       "      <td>Tinta de Toro</td>\n",
       "      <td>Bodega Carmen Rodríguez</td>\n",
       "      <td>NaN</td>\n",
       "      <td>NaN</td>\n",
       "      <td>NaN</td>\n",
       "    </tr>\n",
       "    <tr>\n",
       "      <th>2</th>\n",
       "      <td>2</td>\n",
       "      <td>2</td>\n",
       "      <td>US</td>\n",
       "      <td>Mac Watson honors the memory of a wine once ma...</td>\n",
       "      <td>Special Selected Late Harvest</td>\n",
       "      <td>96</td>\n",
       "      <td>90.0</td>\n",
       "      <td>California</td>\n",
       "      <td>Knights Valley</td>\n",
       "      <td>Sonoma</td>\n",
       "      <td>Sauvignon Blanc</td>\n",
       "      <td>Macauley</td>\n",
       "      <td>NaN</td>\n",
       "      <td>NaN</td>\n",
       "      <td>NaN</td>\n",
       "    </tr>\n",
       "    <tr>\n",
       "      <th>3</th>\n",
       "      <td>3</td>\n",
       "      <td>3</td>\n",
       "      <td>US</td>\n",
       "      <td>This spent 20 months in 30% new French oak, an...</td>\n",
       "      <td>Reserve</td>\n",
       "      <td>96</td>\n",
       "      <td>65.0</td>\n",
       "      <td>Oregon</td>\n",
       "      <td>Willamette Valley</td>\n",
       "      <td>Willamette Valley</td>\n",
       "      <td>Pinot Noir</td>\n",
       "      <td>Ponzi</td>\n",
       "      <td>NaN</td>\n",
       "      <td>NaN</td>\n",
       "      <td>NaN</td>\n",
       "    </tr>\n",
       "    <tr>\n",
       "      <th>4</th>\n",
       "      <td>4</td>\n",
       "      <td>4</td>\n",
       "      <td>France</td>\n",
       "      <td>This is the top wine from La Bégude, named aft...</td>\n",
       "      <td>La Brûlade</td>\n",
       "      <td>95</td>\n",
       "      <td>66.0</td>\n",
       "      <td>Provence</td>\n",
       "      <td>Bandol</td>\n",
       "      <td>NaN</td>\n",
       "      <td>Provence red blend</td>\n",
       "      <td>Domaine de la Bégude</td>\n",
       "      <td>NaN</td>\n",
       "      <td>NaN</td>\n",
       "      <td>NaN</td>\n",
       "    </tr>\n",
       "    <tr>\n",
       "      <th>...</th>\n",
       "      <td>...</td>\n",
       "      <td>...</td>\n",
       "      <td>...</td>\n",
       "      <td>...</td>\n",
       "      <td>...</td>\n",
       "      <td>...</td>\n",
       "      <td>...</td>\n",
       "      <td>...</td>\n",
       "      <td>...</td>\n",
       "      <td>...</td>\n",
       "      <td>...</td>\n",
       "      <td>...</td>\n",
       "      <td>...</td>\n",
       "      <td>...</td>\n",
       "      <td>...</td>\n",
       "    </tr>\n",
       "    <tr>\n",
       "      <th>280896</th>\n",
       "      <td>129966</td>\n",
       "      <td>129966</td>\n",
       "      <td>Germany</td>\n",
       "      <td>Notes of honeysuckle and cantaloupe sweeten th...</td>\n",
       "      <td>Brauneberger Juffer-Sonnenuhr Spätlese</td>\n",
       "      <td>90</td>\n",
       "      <td>28.0</td>\n",
       "      <td>Mosel</td>\n",
       "      <td>NaN</td>\n",
       "      <td>NaN</td>\n",
       "      <td>Riesling</td>\n",
       "      <td>Dr. H. Thanisch (Erben Müller-Burggraef)</td>\n",
       "      <td>Anna Lee C. Iijima</td>\n",
       "      <td>NaN</td>\n",
       "      <td>Dr. H. Thanisch (Erben Müller-Burggraef) 2013 ...</td>\n",
       "    </tr>\n",
       "    <tr>\n",
       "      <th>280897</th>\n",
       "      <td>129967</td>\n",
       "      <td>129967</td>\n",
       "      <td>US</td>\n",
       "      <td>Citation is given as much as a decade of bottl...</td>\n",
       "      <td>NaN</td>\n",
       "      <td>90</td>\n",
       "      <td>75.0</td>\n",
       "      <td>Oregon</td>\n",
       "      <td>Oregon</td>\n",
       "      <td>Oregon Other</td>\n",
       "      <td>Pinot Noir</td>\n",
       "      <td>Citation</td>\n",
       "      <td>Paul Gregutt</td>\n",
       "      <td>@paulgwine</td>\n",
       "      <td>Citation 2004 Pinot Noir (Oregon)</td>\n",
       "    </tr>\n",
       "    <tr>\n",
       "      <th>280898</th>\n",
       "      <td>129968</td>\n",
       "      <td>129968</td>\n",
       "      <td>France</td>\n",
       "      <td>Well-drained gravel soil gives this wine its c...</td>\n",
       "      <td>Kritt</td>\n",
       "      <td>90</td>\n",
       "      <td>30.0</td>\n",
       "      <td>Alsace</td>\n",
       "      <td>Alsace</td>\n",
       "      <td>NaN</td>\n",
       "      <td>Gewürztraminer</td>\n",
       "      <td>Domaine Gresser</td>\n",
       "      <td>Roger Voss</td>\n",
       "      <td>@vossroger</td>\n",
       "      <td>Domaine Gresser 2013 Kritt Gewurztraminer (Als...</td>\n",
       "    </tr>\n",
       "    <tr>\n",
       "      <th>280899</th>\n",
       "      <td>129969</td>\n",
       "      <td>129969</td>\n",
       "      <td>France</td>\n",
       "      <td>A dry style of Pinot Gris, this is crisp with ...</td>\n",
       "      <td>NaN</td>\n",
       "      <td>90</td>\n",
       "      <td>32.0</td>\n",
       "      <td>Alsace</td>\n",
       "      <td>Alsace</td>\n",
       "      <td>NaN</td>\n",
       "      <td>Pinot Gris</td>\n",
       "      <td>Domaine Marcel Deiss</td>\n",
       "      <td>Roger Voss</td>\n",
       "      <td>@vossroger</td>\n",
       "      <td>Domaine Marcel Deiss 2012 Pinot Gris (Alsace)</td>\n",
       "    </tr>\n",
       "    <tr>\n",
       "      <th>280900</th>\n",
       "      <td>129970</td>\n",
       "      <td>129970</td>\n",
       "      <td>France</td>\n",
       "      <td>Big, rich and off-dry, this is powered by inte...</td>\n",
       "      <td>Lieu-dit Harth Cuvée Caroline</td>\n",
       "      <td>90</td>\n",
       "      <td>21.0</td>\n",
       "      <td>Alsace</td>\n",
       "      <td>Alsace</td>\n",
       "      <td>NaN</td>\n",
       "      <td>Gewürztraminer</td>\n",
       "      <td>Domaine Schoffit</td>\n",
       "      <td>Roger Voss</td>\n",
       "      <td>@vossroger</td>\n",
       "      <td>Domaine Schoffit 2012 Lieu-dit Harth Cuvée Car...</td>\n",
       "    </tr>\n",
       "  </tbody>\n",
       "</table>\n",
       "<p>280901 rows × 15 columns</p>\n",
       "</div>"
      ],
      "text/plain": [
       "         index  Unnamed: 0  country  \\\n",
       "0            0           0       US   \n",
       "1            1           1    Spain   \n",
       "2            2           2       US   \n",
       "3            3           3       US   \n",
       "4            4           4   France   \n",
       "...        ...         ...      ...   \n",
       "280896  129966      129966  Germany   \n",
       "280897  129967      129967       US   \n",
       "280898  129968      129968   France   \n",
       "280899  129969      129969   France   \n",
       "280900  129970      129970   France   \n",
       "\n",
       "                                              description  \\\n",
       "0       This tremendous 100% varietal wine hails from ...   \n",
       "1       Ripe aromas of fig, blackberry and cassis are ...   \n",
       "2       Mac Watson honors the memory of a wine once ma...   \n",
       "3       This spent 20 months in 30% new French oak, an...   \n",
       "4       This is the top wine from La Bégude, named aft...   \n",
       "...                                                   ...   \n",
       "280896  Notes of honeysuckle and cantaloupe sweeten th...   \n",
       "280897  Citation is given as much as a decade of bottl...   \n",
       "280898  Well-drained gravel soil gives this wine its c...   \n",
       "280899  A dry style of Pinot Gris, this is crisp with ...   \n",
       "280900  Big, rich and off-dry, this is powered by inte...   \n",
       "\n",
       "                                   designation  points  price        province  \\\n",
       "0                            Martha's Vineyard      96  235.0      California   \n",
       "1         Carodorum Selección Especial Reserva      96  110.0  Northern Spain   \n",
       "2                Special Selected Late Harvest      96   90.0      California   \n",
       "3                                      Reserve      96   65.0          Oregon   \n",
       "4                                   La Brûlade      95   66.0        Provence   \n",
       "...                                        ...     ...    ...             ...   \n",
       "280896  Brauneberger Juffer-Sonnenuhr Spätlese      90   28.0           Mosel   \n",
       "280897                                     NaN      90   75.0          Oregon   \n",
       "280898                                   Kritt      90   30.0          Alsace   \n",
       "280899                                     NaN      90   32.0          Alsace   \n",
       "280900           Lieu-dit Harth Cuvée Caroline      90   21.0          Alsace   \n",
       "\n",
       "                 region_1           region_2             variety  \\\n",
       "0             Napa Valley               Napa  Cabernet Sauvignon   \n",
       "1                    Toro                NaN       Tinta de Toro   \n",
       "2          Knights Valley             Sonoma     Sauvignon Blanc   \n",
       "3       Willamette Valley  Willamette Valley          Pinot Noir   \n",
       "4                  Bandol                NaN  Provence red blend   \n",
       "...                   ...                ...                 ...   \n",
       "280896                NaN                NaN            Riesling   \n",
       "280897             Oregon       Oregon Other          Pinot Noir   \n",
       "280898             Alsace                NaN      Gewürztraminer   \n",
       "280899             Alsace                NaN          Pinot Gris   \n",
       "280900             Alsace                NaN      Gewürztraminer   \n",
       "\n",
       "                                          winery         taster_name  \\\n",
       "0                                          Heitz                 NaN   \n",
       "1                        Bodega Carmen Rodríguez                 NaN   \n",
       "2                                       Macauley                 NaN   \n",
       "3                                          Ponzi                 NaN   \n",
       "4                           Domaine de la Bégude                 NaN   \n",
       "...                                          ...                 ...   \n",
       "280896  Dr. H. Thanisch (Erben Müller-Burggraef)  Anna Lee C. Iijima   \n",
       "280897                                  Citation        Paul Gregutt   \n",
       "280898                           Domaine Gresser          Roger Voss   \n",
       "280899                      Domaine Marcel Deiss          Roger Voss   \n",
       "280900                          Domaine Schoffit          Roger Voss   \n",
       "\n",
       "       taster_twitter_handle  \\\n",
       "0                        NaN   \n",
       "1                        NaN   \n",
       "2                        NaN   \n",
       "3                        NaN   \n",
       "4                        NaN   \n",
       "...                      ...   \n",
       "280896                   NaN   \n",
       "280897           @paulgwine    \n",
       "280898            @vossroger   \n",
       "280899            @vossroger   \n",
       "280900            @vossroger   \n",
       "\n",
       "                                                    title  \n",
       "0                                                     NaN  \n",
       "1                                                     NaN  \n",
       "2                                                     NaN  \n",
       "3                                                     NaN  \n",
       "4                                                     NaN  \n",
       "...                                                   ...  \n",
       "280896  Dr. H. Thanisch (Erben Müller-Burggraef) 2013 ...  \n",
       "280897                  Citation 2004 Pinot Noir (Oregon)  \n",
       "280898  Domaine Gresser 2013 Kritt Gewurztraminer (Als...  \n",
       "280899      Domaine Marcel Deiss 2012 Pinot Gris (Alsace)  \n",
       "280900  Domaine Schoffit 2012 Lieu-dit Harth Cuvée Car...  \n",
       "\n",
       "[280901 rows x 15 columns]"
      ]
     },
     "execution_count": 32,
     "metadata": {},
     "output_type": "execute_result"
    }
   ],
   "source": [
    "# here I dropped columns using combined_df = combined_df.drop(\"Unnamed: 0\", axis=1) \n",
    "\n",
    "combined_df"
   ]
  },
  {
   "cell_type": "code",
   "execution_count": null,
   "id": "a44bd3dc-420a-4181-9f42-13fdf6082cca",
   "metadata": {},
   "outputs": [],
   "source": []
  },
  {
   "cell_type": "code",
   "execution_count": 33,
   "id": "e52e8166-2d24-492d-992c-8f04da2741da",
   "metadata": {},
   "outputs": [
    {
     "data": {
      "text/plain": [
       "Index(['index', 'Unnamed: 0', 'country', 'description', 'designation',\n",
       "       'points', 'price', 'province', 'region_1', 'region_2', 'variety',\n",
       "       'winery', 'taster_name', 'taster_twitter_handle', 'title'],\n",
       "      dtype='object')"
      ]
     },
     "execution_count": 33,
     "metadata": {},
     "output_type": "execute_result"
    }
   ],
   "source": [
    "combined_df.columns"
   ]
  },
  {
   "cell_type": "markdown",
   "id": "28ee8238-f2b0-40a5-8bc9-6c3b9235f370",
   "metadata": {},
   "source": [
    "#  Statistics of numerical data"
   ]
  },
  {
   "cell_type": "code",
   "execution_count": 34,
   "id": "096a3b63-3725-4220-9846-c5dcf5e51b70",
   "metadata": {
    "scrolled": true
   },
   "outputs": [
    {
     "data": {
      "text/plain": [
       "\"Statistics for 'price' and 'points':\""
      ]
     },
     "metadata": {},
     "output_type": "display_data"
    },
    {
     "data": {
      "text/html": [
       "<div>\n",
       "<style scoped>\n",
       "    .dataframe tbody tr th:only-of-type {\n",
       "        vertical-align: middle;\n",
       "    }\n",
       "\n",
       "    .dataframe tbody tr th {\n",
       "        vertical-align: top;\n",
       "    }\n",
       "\n",
       "    .dataframe thead th {\n",
       "        text-align: right;\n",
       "    }\n",
       "</style>\n",
       "<table border=\"1\" class=\"dataframe\">\n",
       "  <thead>\n",
       "    <tr style=\"text-align: right;\">\n",
       "      <th></th>\n",
       "      <th>price</th>\n",
       "      <th>points</th>\n",
       "    </tr>\n",
       "  </thead>\n",
       "  <tbody>\n",
       "    <tr>\n",
       "      <th>count</th>\n",
       "      <td>258210.00</td>\n",
       "      <td>280901.00</td>\n",
       "    </tr>\n",
       "    <tr>\n",
       "      <th>mean</th>\n",
       "      <td>34.18</td>\n",
       "      <td>88.15</td>\n",
       "    </tr>\n",
       "    <tr>\n",
       "      <th>std</th>\n",
       "      <td>38.61</td>\n",
       "      <td>3.15</td>\n",
       "    </tr>\n",
       "    <tr>\n",
       "      <th>min</th>\n",
       "      <td>4.00</td>\n",
       "      <td>80.00</td>\n",
       "    </tr>\n",
       "    <tr>\n",
       "      <th>25%</th>\n",
       "      <td>16.00</td>\n",
       "      <td>86.00</td>\n",
       "    </tr>\n",
       "    <tr>\n",
       "      <th>50%</th>\n",
       "      <td>25.00</td>\n",
       "      <td>88.00</td>\n",
       "    </tr>\n",
       "    <tr>\n",
       "      <th>75%</th>\n",
       "      <td>40.00</td>\n",
       "      <td>90.00</td>\n",
       "    </tr>\n",
       "    <tr>\n",
       "      <th>max</th>\n",
       "      <td>3300.00</td>\n",
       "      <td>100.00</td>\n",
       "    </tr>\n",
       "  </tbody>\n",
       "</table>\n",
       "</div>"
      ],
      "text/plain": [
       "           price     points\n",
       "count  258210.00  280901.00\n",
       "mean       34.18      88.15\n",
       "std        38.61       3.15\n",
       "min         4.00      80.00\n",
       "25%        16.00      86.00\n",
       "50%        25.00      88.00\n",
       "75%        40.00      90.00\n",
       "max      3300.00     100.00"
      ]
     },
     "metadata": {},
     "output_type": "display_data"
    }
   ],
   "source": [
    "# Display statistics for 'price' and 'points' columns\n",
    "\"\"\" count:null values for the price column and points column\n",
    "mean: average of price and points , \n",
    "std: The standard deviation for the price is about $38.61, indicating a wide range of prices, \n",
    "while the standard deviation for points is 3.15, showing less variability in ratings. \n",
    "min: The minimum price is $4, and the lowest rating is 80 points.\n",
    "25%:of the wines cost $16 or less, and 25% have a rating of 86 points or less.\n",
    "50% (median): The median price is $25, and the median rating is 88 points.\n",
    "75%:of the wines cost $40 or less, and 75% have a rating of 90 points or less.\n",
    "max: The maximum price of a wine is $3,300, and the highest rating is 100 points.\"\"\"\n",
    "\n",
    "statistics = combined_df[[\"price\", \"points\"]].describe().round(2)\n",
    "\n",
    "display(\"Statistics for 'price' and 'points':\")\n",
    "display(statistics)"
   ]
  },
  {
   "cell_type": "code",
   "execution_count": 35,
   "id": "9a4ff899-ff70-48e6-8937-df04e60c3fb1",
   "metadata": {},
   "outputs": [
    {
     "data": {
      "image/png": "[encoded data removed]",
      "text/plain": [
       "<Figure size 1600x500 with 1 Axes>"
      ]
     },
     "metadata": {},
     "output_type": "display_data"
    }
   ],
   "source": [
    "\"\"\" most wines in the dataset will rank between 82 and 95 \"\"\"\n",
    "# Create a DataFrame with the statistics provided\n",
    "stats_data = {\n",
    "    'metric': ['count', 'mean', 'std', 'min', '25%', '50%', '75%', 'max'],\n",
    "    'price': [258210.00, 34.18, 38.61, 4.00, 16.00, 25.00, 40.00, 3300.00],\n",
    "    'points': [280901.00, 88.15, 3.15, 80.00, 86.00, 88.00, 90.00, 100.00]\n",
    "}\n",
    "df_stats = pd.DataFrame(stats_data)\n",
    "\n",
    "# Define the size of the figure\n",
    "plt.figure(figsize=(16, 5))\n",
    "\n",
    "# Create the first subplot for 'points'\n",
    "plt.subplot(1, 2, 1)\n",
    "g1 = sns.histplot(x='points', data=combined_df, bins=20, kde=True, color='maroon')\n",
    "g1.set_title(\"Points in Dataset\")\n",
    "plt.savefig(\"../images/figura1.png\")\n",
    "plt.show()"
   ]
  },
  {
   "cell_type": "markdown",
   "id": "b2ce5f4b-ca65-411d-aa0a-e4dc24eaac2d",
   "metadata": {},
   "source": [
    "# Crossing points and price"
   ]
  },
  {
   "cell_type": "code",
   "execution_count": 38,
   "id": "2c5023af-0f18-4686-8d16-8f07136c4703",
   "metadata": {},
   "outputs": [
    {
     "data": {
      "image/png": "[encoded data removed]",
      "text/plain": [
       "<Figure size 1000x400 with 1 Axes>"
      ]
     },
     "metadata": {},
     "output_type": "display_data"
    }
   ],
   "source": [
    "\"\"\" data shows that the most expensive wine is not the one with the most points \"\"\"\n",
    "plt.figure(figsize=(10,4))\n",
    "\n",
    "g = sns.regplot(x='points', y='price', \n",
    "                data=combined_df, line_kws={'color':'orange'},\n",
    "                x_jitter=True, fit_reg=True, color='maroon')\n",
    "g.set_title(\"points x price\", fontsize=20)\n",
    "g.set_xlabel(\"points\", fontsize= 15)\n",
    "g.set_ylabel(\"price (log)\", fontsize= 15)\n",
    "\n",
    "plt.show()"
   ]
  },
  {
   "cell_type": "markdown",
   "id": "72838b8a-3d49-42ba-b15e-de574bb53d6a",
   "metadata": {},
   "source": [
    "# Value count"
   ]
  },
  {
   "cell_type": "code",
   "execution_count": 51,
   "id": "9bbbecab-534a-4dcd-ba45-e4a17d941222",
   "metadata": {},
   "outputs": [
    {
     "data": {
      "text/plain": [
       "'Most common grape varieties in the dataset:'"
      ]
     },
     "metadata": {},
     "output_type": "display_data"
    },
    {
     "data": {
      "text/plain": [
       "variety\n",
       "Pinot Noir                  27563\n",
       "Chardonnay                  26235\n",
       "Cabernet Sauvignon          22272\n",
       "Red Blend                   19008\n",
       "Bordeaux-style Red Blend    14262\n",
       "Name: count, dtype: int64"
      ]
     },
     "metadata": {},
     "output_type": "display_data"
    }
   ],
   "source": [
    "# Calculate the most common grape varieties in the dataset\n",
    "common_varieties = combined_df['variety'].value_counts().head(5)\n",
    "\n",
    "# Print the most common grape varieties\n",
    "display(\"Most common grape varieties in the dataset:\")\n",
    "display(common_varieties)"
   ]
  },
  {
   "cell_type": "code",
   "execution_count": 18,
   "id": "9cb553f6-8c87-42f2-9a5f-f4eea81ad81d",
   "metadata": {},
   "outputs": [
    {
     "data": {
      "text/html": [
       "<div>\n",
       "<style scoped>\n",
       "    .dataframe tbody tr th:only-of-type {\n",
       "        vertical-align: middle;\n",
       "    }\n",
       "\n",
       "    .dataframe tbody tr th {\n",
       "        vertical-align: top;\n",
       "    }\n",
       "\n",
       "    .dataframe thead th {\n",
       "        text-align: right;\n",
       "    }\n",
       "</style>\n",
       "<table border=\"1\" class=\"dataframe\">\n",
       "  <thead>\n",
       "    <tr style=\"text-align: right;\">\n",
       "      <th></th>\n",
       "      <th>variety</th>\n",
       "      <th>count</th>\n",
       "    </tr>\n",
       "  </thead>\n",
       "  <tbody>\n",
       "    <tr>\n",
       "      <th>0</th>\n",
       "      <td>Pinot Noir</td>\n",
       "      <td>27563</td>\n",
       "    </tr>\n",
       "    <tr>\n",
       "      <th>1</th>\n",
       "      <td>Chardonnay</td>\n",
       "      <td>26235</td>\n",
       "    </tr>\n",
       "    <tr>\n",
       "      <th>2</th>\n",
       "      <td>Cabernet Sauvignon</td>\n",
       "      <td>22272</td>\n",
       "    </tr>\n",
       "    <tr>\n",
       "      <th>3</th>\n",
       "      <td>Red Blend</td>\n",
       "      <td>19008</td>\n",
       "    </tr>\n",
       "    <tr>\n",
       "      <th>4</th>\n",
       "      <td>Bordeaux-style Red Blend</td>\n",
       "      <td>14262</td>\n",
       "    </tr>\n",
       "  </tbody>\n",
       "</table>\n",
       "</div>"
      ],
      "text/plain": [
       "                    variety  count\n",
       "0                Pinot Noir  27563\n",
       "1                Chardonnay  26235\n",
       "2        Cabernet Sauvignon  22272\n",
       "3                 Red Blend  19008\n",
       "4  Bordeaux-style Red Blend  14262"
      ]
     },
     "execution_count": 18,
     "metadata": {},
     "output_type": "execute_result"
    }
   ],
   "source": [
    "common_varieties_top5_df = pd.DataFrame(common_varieties.iloc[:5]).reset_index()\n",
    "common_varieties_top5_df"
   ]
  },
  {
   "cell_type": "code",
   "execution_count": 19,
   "id": "934a77e7-0789-4369-8466-fc19e01a5166",
   "metadata": {},
   "outputs": [
    {
     "data": {
      "image/png": "[encoded data removed]",
      "text/plain": [
       "<Figure size 640x480 with 1 Axes>"
      ]
     },
     "metadata": {},
     "output_type": "display_data"
    }
   ],
   "source": [
    "ax=sns.barplot(data=common_varieties_top5_df, y='variety', x='count', color=\"maroon\")\n",
    "ax.set_title(\"Top 5 most common grape varieties\");\n",
    "plt.savefig(\"../images/figura3.png\");"
   ]
  },
  {
   "cell_type": "markdown",
   "id": "42bd9dd9-d4ab-4541-97cc-bb6e802df1fb",
   "metadata": {},
   "source": [
    "# Group by"
   ]
  },
  {
   "cell_type": "code",
   "execution_count": 20,
   "id": "7a1a39c8-c1b5-4390-84b5-5c12d1d190bf",
   "metadata": {},
   "outputs": [
    {
     "data": {
      "text/plain": [
       "'Most common grape variety by country:'"
      ]
     },
     "metadata": {},
     "output_type": "display_data"
    },
    {
     "data": {
      "text/plain": [
       "country\n",
       "Albania               Kallmet\n",
       "Argentina              Malbec\n",
       "Armenia               Kangoun\n",
       "Australia              Shiraz\n",
       "Austria      Grüner Veltliner\n",
       "Name: variety, dtype: object"
      ]
     },
     "metadata": {},
     "output_type": "display_data"
    }
   ],
   "source": [
    "#Group by 'country' and count occurrences of each 'variety', then find the most common one\n",
    "most_common_variety_by_country = combined_df.groupby('country')['variety'].agg(lambda x: x.value_counts().idxmax()).head()\n",
    "\n",
    "#print the most common grape variety by country\n",
    "display(\"Most common grape variety by country:\")\n",
    "display(most_common_variety_by_country)"
   ]
  },
  {
   "cell_type": "code",
   "execution_count": 47,
   "id": "faf2042f-b6f1-4383-ae51-c1c1e7415612",
   "metadata": {},
   "outputs": [
    {
     "name": "stdout",
     "output_type": "stream",
     "text": [
      "Countries producing the highest-rated wines in the dataset:\n",
      "country\n",
      "England    91.722892\n",
      "Austria    89.707591\n",
      "Germany    89.200996\n",
      "India      89.000000\n",
      "France     88.884559\n",
      "Name: points, dtype: float64\n",
      "\n",
      "Average ratings for the 5 biggest wine producers in the world:\n",
      "country\n",
      "France    88.884559\n",
      "Italy     88.481147\n",
      "Spain     86.932542\n",
      "US        88.166106\n",
      "Chile     86.382290\n",
      "Name: points, dtype: float64\n"
     ]
    }
   ],
   "source": [
    "# Calculate the average rating for each country\n",
    "average_ratings_by_country = combined_df.groupby('country')['points'].mean().sort_values(ascending=False)\n",
    "\n",
    "# Print the countries with the highest-rated wines\n",
    "print(\"Countries producing the highest-rated wines in the dataset:\")\n",
    "print(average_ratings_by_country.head())\n",
    "\n",
    "# Find the average ratings for France, Italy, Spain, and the US\n",
    "countries_of_interest = ['France', 'Italy', 'Spain', 'US', \"Chile\"]\n",
    "average_ratings_specific_countries = average_ratings_by_country[countries_of_interest]\n",
    "\n",
    "# Print the average ratings for the specified countries\n",
    "print(\"\\nAverage ratings for the 5 biggest wine producers in the world:\")\n",
    "print(average_ratings_specific_countries)"
   ]
  },
  {
   "cell_type": "code",
   "execution_count": 48,
   "id": "cf82e4b1-dc65-47d3-bd06-01bb0edf4edb",
   "metadata": {},
   "outputs": [
    {
     "name": "stderr",
     "output_type": "stream",
     "text": [
      "C:\\Users\\Meli\\AppData\\Local\\Temp\\ipykernel_17476\\1485681643.py:12: UserWarning: set_ticklabels() should only be used with a fixed number of ticks, i.e. after set_ticks() or using a FixedLocator.\n",
      "  g.set_xticklabels(g.get_xticklabels(),rotation=45);\n"
     ]
    },
    {
     "data": {
      "image/png": "[encoded data removed]",
      "text/plain": [
       "<Figure size 900x500 with 1 Axes>"
      ]
     },
     "metadata": {},
     "output_type": "display_data"
    }
   ],
   "source": [
    "\"\"\" this graph shows amount on ocurrances in the dataset, not the biggest wine producers in the world, the US is the 4th producer \"\"\"\n",
    "plt.figure(figsize=(9,5))\n",
    "\n",
    "country = combined_df.country.value_counts()[:5]\n",
    "\n",
    "g = sns.countplot(x='country', \n",
    "                  data=combined_df[combined_df.country.isin(country.index.values)],\n",
    "                 color='maroon');\n",
    "g.set_title(\"Country Of Origin Count\", fontsize=20);\n",
    "g.set_xlabel(\"Country \", fontsize=15);\n",
    "g.set_ylabel(\"Count\", fontsize=15);\n",
    "g.set_xticklabels(g.get_xticklabels(),rotation=45);\n",
    "\n",
    "\n",
    "plt.show();"
   ]
  },
  {
   "cell_type": "code",
   "execution_count": 49,
   "id": "f2ea6953-268d-4a89-99fa-d6407da7f719",
   "metadata": {},
   "outputs": [
    {
     "data": {
      "text/plain": [
       "'Grape varieties with the highest average ratings and their countries:'"
      ]
     },
     "metadata": {},
     "output_type": "display_data"
    },
    {
     "data": {
      "text/html": [
       "<div>\n",
       "<style scoped>\n",
       "    .dataframe tbody tr th:only-of-type {\n",
       "        vertical-align: middle;\n",
       "    }\n",
       "\n",
       "    .dataframe tbody tr th {\n",
       "        vertical-align: top;\n",
       "    }\n",
       "\n",
       "    .dataframe thead th {\n",
       "        text-align: right;\n",
       "    }\n",
       "</style>\n",
       "<table border=\"1\" class=\"dataframe\">\n",
       "  <thead>\n",
       "    <tr style=\"text-align: right;\">\n",
       "      <th></th>\n",
       "      <th>variety</th>\n",
       "      <th>country</th>\n",
       "      <th>points</th>\n",
       "    </tr>\n",
       "  </thead>\n",
       "  <tbody>\n",
       "    <tr>\n",
       "      <th>0</th>\n",
       "      <td>Cabernet-Shiraz</td>\n",
       "      <td>Australia</td>\n",
       "      <td>96.00</td>\n",
       "    </tr>\n",
       "    <tr>\n",
       "      <th>1</th>\n",
       "      <td>Tinta del Pais</td>\n",
       "      <td>Spain</td>\n",
       "      <td>95.00</td>\n",
       "    </tr>\n",
       "    <tr>\n",
       "      <th>2</th>\n",
       "      <td>Terrantez</td>\n",
       "      <td>Portugal</td>\n",
       "      <td>95.00</td>\n",
       "    </tr>\n",
       "    <tr>\n",
       "      <th>3</th>\n",
       "      <td>Muscat</td>\n",
       "      <td>South Africa</td>\n",
       "      <td>94.67</td>\n",
       "    </tr>\n",
       "    <tr>\n",
       "      <th>4</th>\n",
       "      <td>Muscadel</td>\n",
       "      <td>Australia</td>\n",
       "      <td>94.14</td>\n",
       "    </tr>\n",
       "  </tbody>\n",
       "</table>\n",
       "</div>"
      ],
      "text/plain": [
       "           variety       country  points\n",
       "0  Cabernet-Shiraz     Australia   96.00\n",
       "1   Tinta del Pais         Spain   95.00\n",
       "2        Terrantez      Portugal   95.00\n",
       "3           Muscat  South Africa   94.67\n",
       "4         Muscadel     Australia   94.14"
      ]
     },
     "metadata": {},
     "output_type": "display_data"
    }
   ],
   "source": [
    "# Group by 'variety' and 'country', then calculate the average rating\n",
    "average_ratings_by_variety_country = combined_df.groupby(['variety', 'country'])['points'].mean().sort_values(ascending=False).round(2).head(5)\n",
    "\n",
    "# Reset index to turn the MultiIndex into columns\n",
    "average_ratings_by_variety_country = average_ratings_by_variety_country.reset_index()\n",
    "\n",
    "# Print the grape varieties with the highest average ratings and their respective countries\n",
    "display(\"Grape varieties with the highest average ratings and their countries:\")\n",
    "display(average_ratings_by_variety_country)"
   ]
  },
  {
   "cell_type": "code",
   "execution_count": 43,
   "id": "72dd7022-1345-4e5b-9c33-7ba6f86e22b0",
   "metadata": {},
   "outputs": [
    {
     "data": {
      "image/png": "[encoded data removed]",
      "text/plain": [
       "<Figure size 640x480 with 1 Axes>"
      ]
     },
     "metadata": {},
     "output_type": "display_data"
    }
   ],
   "source": [
    "# Grape varieties and scores\n",
    "\n",
    "# Create the DataFrame\n",
    "data = {\n",
    "    'variety': ['Cabernet-Shiraz', 'Tinta del Pais', 'Terrantez', 'Muscat', 'Muscadel'],\n",
    "    'country': ['Australia', 'Spain', 'Portugal', 'South Africa', 'Australia'],\n",
    "    'points': [96.00, 95.0, 95.00, 94.66, 94.14]\n",
    "}\n",
    "\n",
    "df = pd.DataFrame(data)\n",
    "\n",
    "# Create the barplot\n",
    "ax = sns.lineplot(data=df, y='variety', x='points', marker = \"o\", linestyle = \"--\", color=\"maroon\")\n",
    "\n",
    "# Set the title\n",
    "ax.set_title(\"Grape Varieties with the Highest Average Ratings\")\n",
    "\n",
    "# Save the figure\n",
    "plt.savefig(\"../images/figura1.png\")\n",
    "\n",
    "# Show the plot\n",
    "plt.show()"
   ]
  },
  {
   "cell_type": "code",
   "execution_count": 50,
   "id": "badf0022-35e4-4837-9efe-72377d2ec754",
   "metadata": {},
   "outputs": [
    {
     "data": {
      "text/plain": [
       "'Top 5 Best Rated Wine Origin Designations and Their Countries:'"
      ]
     },
     "metadata": {},
     "output_type": "display_data"
    },
    {
     "data": {
      "text/plain": [
       "designation                          country \n",
       "Barca-Velha                          Portugal    100.0\n",
       "Cristal Vintage Brut                 France      100.0\n",
       "Clos du Mesnil                       France      100.0\n",
       "Clos du Mesnil Brut Blanc de Blancs  France       99.0\n",
       "Nacional Vintage                     Portugal     99.0\n",
       "Name: points, dtype: float64"
      ]
     },
     "metadata": {},
     "output_type": "display_data"
    }
   ],
   "source": [
    "# Origin destination\n",
    "\n",
    "# Group the data by both 'designation' and 'country' and calculate the average rating\n",
    "designation_country_ratings = combined_df.groupby(['designation', 'country'])['points'].mean()\n",
    "\n",
    "# Sort the average ratings in descending order to find the top-rated designations\n",
    "top_rated_designations = designation_country_ratings.sort_values(ascending=False)\n",
    "\n",
    "# Display the top-rated designations along with their countries\n",
    "display(\"Top 5 Best Rated Wine Origin Designations and Their Countries:\")\n",
    "display(top_rated_designations.head(5))  # Displaying the top 10 designations"
   ]
  },
  {
   "cell_type": "markdown",
   "id": "2cf80d39-4aaf-48a4-8482-060d953651eb",
   "metadata": {},
   "source": [
    "# Findings and conclusions"
   ]
  },
  {
   "cell_type": "code",
   "execution_count": null,
   "id": "aebe4910-6cd1-49c9-8b69-11c559f14634",
   "metadata": {},
   "outputs": [],
   "source": [
    "\"\"\"Price and Rating Disparity: \n",
    "The maximum price of a wine is $3,300, but the highest-rated wines (100 points) are not the most expensive, \n",
    "demonstrating that high prices do not always align with top scores.\n",
    "Regional Influence on Wine Ratings: \n",
    "Countries like England, which is not traditionally known for expensive wines, have the highest average ratings (91.72 points).\n",
    "Grape Variety Impact on Wine Reviews:\n",
    "The list of top 5 best-rated wine origin designations includes a variety of grape types, suggesting that certain varieties are \n",
    "more likely to produce highly-rated wines, like the spanish grape called Tinta del País or Tempranillo from Ribera del Duero.\"\"\""
   ]
  },
  {
   "cell_type": "code",
   "execution_count": null,
   "id": "33c25d92-2f98-47c4-b810-7425ab778918",
   "metadata": {},
   "outputs": [],
   "source": [
    "\"\"\" By analyzing the correlation between price and ratings, the retailer can adjust their inventory to focus on wines \n",
    "that offer the best value for customers (e.g., moderately priced wines with high ratings).\n",
    "Develop marketing campaigns that highlight wines from non-traditional but high-performing regions like England and Austria.\n",
    "Educate customers about the value of wines from emerging regions and specific grape varieties through in-store tastings, \n",
    "online content, and expert recommendations.\"\"\"\n"
   ]
  }
 ],
 "metadata": {
  "kernelspec": {
   "display_name": "venv",
   "language": "python",
   "name": "venv"
  },
  "language_info": {
   "codemirror_mode": {
    "name": "ipython",
    "version": 3
   },
   "file_extension": ".py",
   "mimetype": "text/x-python",
   "name": "python",
   "nbconvert_exporter": "python",
   "pygments_lexer": "ipython3",
   "version": "3.11.7"
  }
 },
 "nbformat": 4,
 "nbformat_minor": 5
}
